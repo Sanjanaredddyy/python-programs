{
 "cells": [
  {
   "cell_type": "code",
   "execution_count": 5,
   "id": "d6e7b942-4418-4940-a50e-fe09f3c32b1f",
   "metadata": {},
   "outputs": [
    {
     "name": "stdin",
     "output_type": "stream",
     "text": [
      "Enter a positive integer:  5\n"
     ]
    },
    {
     "name": "stdout",
     "output_type": "stream",
     "text": [
      "The sum of all even numbers between 1 and 5 is: 6\n"
     ]
    }
   ],
   "source": [
    "def sum_of_even_numbers(n):\n",
    "    total_sum = 0\n",
    "    for num in range(2, n+1,2):\n",
    "        total_sum += num\n",
    "    return total_sum\n",
    "n = int(input(\"Enter a positive integer: \"))\n",
    "if n<=0:\n",
    "    print(\"Please enter a positive integer.\")\n",
    "else:\n",
    "    result = sum_of_even_numbers(n)\n",
    "    print(f\"The sum of all even numbers between 1 and {n} is: {result}\")"
   ]
  },
  {
   "cell_type": "raw",
   "id": "cca9a70a-f6c8-4023-8975-0c83e5660739",
   "metadata": {},
   "source": []
  },
  {
   "cell_type": "code",
   "execution_count": 7,
   "id": "2ea8f778-57aa-4a7e-9fe9-965baddfb065",
   "metadata": {},
   "outputs": [
    {
     "name": "stdin",
     "output_type": "stream",
     "text": [
      "Enter a positive integer:  -6\n"
     ]
    },
    {
     "name": "stdout",
     "output_type": "stream",
     "text": [
      "Please enter a positive integer.\n"
     ]
    }
   ],
   "source": [
    "def sum_of_even_numbers(n):\n",
    "    total_sum = 0\n",
    "    for num in range(2, n+1,2):\n",
    "        total_sum += num\n",
    "    return total_sum\n",
    "n = int(input(\"Enter a positive integer: \"))\n",
    "if n<=0:\n",
    "    print(\"Please enter a positive integer.\")\n",
    "else:\n",
    "    result = sum_of_even_numbers(n)\n",
    "    print(f\"The sum of all even numbers between 1 and {n} is: {result}\")"
   ]
  },
  {
   "cell_type": "code",
   "execution_count": null,
   "id": "07639554-b68e-4b07-bda1-56ec88c77937",
   "metadata": {},
   "outputs": [],
   "source": []
  }
 ],
 "metadata": {
  "kernelspec": {
   "display_name": "Python [conda env:base] *",
   "language": "python",
   "name": "conda-base-py"
  },
  "language_info": {
   "codemirror_mode": {
    "name": "ipython",
    "version": 3
   },
   "file_extension": ".py",
   "mimetype": "text/x-python",
   "name": "python",
   "nbconvert_exporter": "python",
   "pygments_lexer": "ipython3",
   "version": "3.12.7"
  }
 },
 "nbformat": 4,
 "nbformat_minor": 5
}
