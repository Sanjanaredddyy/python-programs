{
 "cells": [
  {
   "cell_type": "code",
   "execution_count": 1,
   "id": "6e5cde61-d2f5-4577-9f78-c4e39022f41e",
   "metadata": {},
   "outputs": [
    {
     "data": {
      "text/plain": [
       "127131"
      ]
     },
     "execution_count": 1,
     "metadata": {},
     "output_type": "execute_result"
    }
   ],
   "source": [
    "a = 127131\n",
    "a"
   ]
  },
  {
   "cell_type": "markdown",
   "id": "3258b166-3886-4363-8851-facf4a594db7",
   "metadata": {},
   "source": [
    "### addition  +\n",
    "### subtraction  -\n",
    "### multiplication  *\n",
    "### division  /\n",
    "### remainder %\n",
    "### power **\n",
    "### floor division  //"
   ]
  },
  {
   "cell_type": "code",
   "execution_count": 14,
   "id": "5f08cfa8-8eac-40ed-ae75-df7d82c956d8",
   "metadata": {},
   "outputs": [],
   "source": [
    "a = 3453\n",
    "b = 4\n"
   ]
  },
  {
   "cell_type": "code",
   "execution_count": 16,
   "id": "1762ccb9-a534-495d-adbf-c3754efd1241",
   "metadata": {},
   "outputs": [
    {
     "name": "stdout",
     "output_type": "stream",
     "text": [
      "3453\n"
     ]
    }
   ],
   "source": [
    "print(a)"
   ]
  },
  {
   "cell_type": "code",
   "execution_count": 18,
   "id": "cf121765-b5b2-4154-9a18-7b7546981eb0",
   "metadata": {},
   "outputs": [
    {
     "name": "stdout",
     "output_type": "stream",
     "text": [
      "4\n"
     ]
    }
   ],
   "source": [
    "\n",
    "print(b)"
   ]
  },
  {
   "cell_type": "code",
   "execution_count": 20,
   "id": "da97965d-b58e-4a44-aafe-60fc05770657",
   "metadata": {},
   "outputs": [
    {
     "data": {
      "text/plain": [
       "3457"
      ]
     },
     "execution_count": 20,
     "metadata": {},
     "output_type": "execute_result"
    }
   ],
   "source": [
    "c = a+b\n",
    "c"
   ]
  },
  {
   "cell_type": "code",
   "execution_count": 22,
   "id": "6727313f-d2a9-4612-9dc7-4d42ce57d3d6",
   "metadata": {},
   "outputs": [
    {
     "data": {
      "text/plain": [
       "int"
      ]
     },
     "execution_count": 22,
     "metadata": {},
     "output_type": "execute_result"
    }
   ],
   "source": [
    "type(c)"
   ]
  },
  {
   "cell_type": "code",
   "execution_count": 24,
   "id": "c405ddac-fcd0-4c1a-a4a0-764afb68c369",
   "metadata": {},
   "outputs": [
    {
     "data": {
      "text/plain": [
       "3449"
      ]
     },
     "execution_count": 24,
     "metadata": {},
     "output_type": "execute_result"
    }
   ],
   "source": [
    "d = a-b\n",
    "d"
   ]
  },
  {
   "cell_type": "code",
   "execution_count": 26,
   "id": "566879ab-fd9c-4368-949a-d9cc5e90a1d4",
   "metadata": {},
   "outputs": [
    {
     "data": {
      "text/plain": [
       "int"
      ]
     },
     "execution_count": 26,
     "metadata": {},
     "output_type": "execute_result"
    }
   ],
   "source": [
    "type(d)"
   ]
  },
  {
   "cell_type": "code",
   "execution_count": 28,
   "id": "d90fdf64-7de6-43fa-a5f1-900bdfb47c1c",
   "metadata": {},
   "outputs": [
    {
     "data": {
      "text/plain": [
       "13812"
      ]
     },
     "execution_count": 28,
     "metadata": {},
     "output_type": "execute_result"
    }
   ],
   "source": [
    "a*b"
   ]
  },
  {
   "cell_type": "code",
   "execution_count": 30,
   "id": "0fc7d282-1ad5-4c65-97ec-ea7d3c43f390",
   "metadata": {},
   "outputs": [
    {
     "data": {
      "text/plain": [
       "1"
      ]
     },
     "execution_count": 30,
     "metadata": {},
     "output_type": "execute_result"
    }
   ],
   "source": [
    "a%b"
   ]
  },
  {
   "cell_type": "code",
   "execution_count": 32,
   "id": "3292d58f-2897-4ac3-a4f4-ffa60aabdeba",
   "metadata": {},
   "outputs": [
    {
     "data": {
      "text/plain": [
       "863.25"
      ]
     },
     "execution_count": 32,
     "metadata": {},
     "output_type": "execute_result"
    }
   ],
   "source": [
    "a/b"
   ]
  },
  {
   "cell_type": "code",
   "execution_count": 34,
   "id": "e03c73da-12d0-4648-8fe8-101a1c374497",
   "metadata": {},
   "outputs": [
    {
     "data": {
      "text/plain": [
       "863"
      ]
     },
     "execution_count": 34,
     "metadata": {},
     "output_type": "execute_result"
    }
   ],
   "source": [
    "a//b"
   ]
  },
  {
   "cell_type": "code",
   "execution_count": 36,
   "id": "799e5e0a-3f0b-481c-8063-0e0a1056b266",
   "metadata": {},
   "outputs": [
    {
     "data": {
      "text/plain": [
       "142162912857681"
      ]
     },
     "execution_count": 36,
     "metadata": {},
     "output_type": "execute_result"
    }
   ],
   "source": [
    "a**b"
   ]
  },
  {
   "cell_type": "code",
   "execution_count": 40,
   "id": "8190dcff-c00a-44b0-ab98-113cbf0254ff",
   "metadata": {},
   "outputs": [
    {
     "data": {
      "text/plain": [
       "False"
      ]
     },
     "execution_count": 40,
     "metadata": {},
     "output_type": "execute_result"
    }
   ],
   "source": [
    "a < b"
   ]
  },
  {
   "cell_type": "code",
   "execution_count": 42,
   "id": "2d2aa315-ef74-4c2b-a07f-5e6c5616c45b",
   "metadata": {},
   "outputs": [
    {
     "data": {
      "text/plain": [
       "False"
      ]
     },
     "execution_count": 42,
     "metadata": {},
     "output_type": "execute_result"
    }
   ],
   "source": [
    "a == b"
   ]
  },
  {
   "cell_type": "code",
   "execution_count": 44,
   "id": "21a8cbfe-61e2-4072-b869-0062cf457e94",
   "metadata": {},
   "outputs": [
    {
     "data": {
      "text/plain": [
       "False"
      ]
     },
     "execution_count": 44,
     "metadata": {},
     "output_type": "execute_result"
    }
   ],
   "source": [
    "a<=b"
   ]
  },
  {
   "cell_type": "code",
   "execution_count": 46,
   "id": "9ccca321-1e33-45ce-836e-84feb230a23c",
   "metadata": {},
   "outputs": [
    {
     "data": {
      "text/plain": [
       "True"
      ]
     },
     "execution_count": 46,
     "metadata": {},
     "output_type": "execute_result"
    }
   ],
   "source": [
    "a>b"
   ]
  },
  {
   "cell_type": "code",
   "execution_count": 48,
   "id": "0662dc8c-d95d-49b3-91be-412830e9f648",
   "metadata": {},
   "outputs": [
    {
     "data": {
      "text/plain": [
       "True"
      ]
     },
     "execution_count": 48,
     "metadata": {},
     "output_type": "execute_result"
    }
   ],
   "source": [
    "a>=b"
   ]
  },
  {
   "cell_type": "code",
   "execution_count": 50,
   "id": "babc21da-406c-4db4-bb35-3460334f67c5",
   "metadata": {},
   "outputs": [
    {
     "data": {
      "text/plain": [
       "True"
      ]
     },
     "execution_count": 50,
     "metadata": {},
     "output_type": "execute_result"
    }
   ],
   "source": [
    "a!=b"
   ]
  },
  {
   "cell_type": "markdown",
   "id": "c9ac4058-ff63-4236-b35e-55fd84c18328",
   "metadata": {},
   "source": [
    "#Logical Operatrors"
   ]
  },
  {
   "cell_type": "code",
   "execution_count": null,
   "id": "6f65d9d3-89af-4e3b-951d-c571ad4cc401",
   "metadata": {},
   "outputs": [],
   "source": [
    "and \n",
    "or \n",
    "not"
   ]
  },
  {
   "cell_type": "code",
   "execution_count": 56,
   "id": "6002f027-2331-4daa-a105-e805f3f82aab",
   "metadata": {},
   "outputs": [],
   "source": [
    "a= 50\n",
    "b= 5"
   ]
  },
  {
   "cell_type": "code",
   "execution_count": 58,
   "id": "ba24321c-8b39-4a2e-af69-83f709cfc589",
   "metadata": {},
   "outputs": [
    {
     "data": {
      "text/plain": [
       "50"
      ]
     },
     "execution_count": 58,
     "metadata": {},
     "output_type": "execute_result"
    }
   ],
   "source": [
    "a"
   ]
  },
  {
   "cell_type": "code",
   "execution_count": 60,
   "id": "008a34cc-9ba4-4b4c-9c8f-7e0247121e81",
   "metadata": {},
   "outputs": [
    {
     "data": {
      "text/plain": [
       "5"
      ]
     },
     "execution_count": 60,
     "metadata": {},
     "output_type": "execute_result"
    }
   ],
   "source": [
    "b"
   ]
  },
  {
   "cell_type": "code",
   "execution_count": 62,
   "id": "65cde672-ea26-4c59-8385-c10ca06f4680",
   "metadata": {},
   "outputs": [
    {
     "data": {
      "text/plain": [
       "True"
      ]
     },
     "execution_count": 62,
     "metadata": {},
     "output_type": "execute_result"
    }
   ],
   "source": [
    "(a>b)"
   ]
  },
  {
   "cell_type": "code",
   "execution_count": 64,
   "id": "ba664332-97e3-4774-8141-62afa0ed5033",
   "metadata": {},
   "outputs": [
    {
     "data": {
      "text/plain": [
       "False"
      ]
     },
     "execution_count": 64,
     "metadata": {},
     "output_type": "execute_result"
    }
   ],
   "source": [
    "(a<b)"
   ]
  },
  {
   "cell_type": "code",
   "execution_count": 66,
   "id": "2b72ad16-69ba-4462-9ccd-f2a46b8df18d",
   "metadata": {},
   "outputs": [
    {
     "data": {
      "text/plain": [
       "False"
      ]
     },
     "execution_count": 66,
     "metadata": {},
     "output_type": "execute_result"
    }
   ],
   "source": [
    "a>100"
   ]
  },
  {
   "cell_type": "code",
   "execution_count": 68,
   "id": "1cf3450a-8856-4cdc-9e70-84265b8aa20a",
   "metadata": {},
   "outputs": [
    {
     "data": {
      "text/plain": [
       "False"
      ]
     },
     "execution_count": 68,
     "metadata": {},
     "output_type": "execute_result"
    }
   ],
   "source": [
    "b<1"
   ]
  },
  {
   "cell_type": "code",
   "execution_count": 72,
   "id": "fcad1d17-0252-455d-a9d1-12cffa4a574f",
   "metadata": {},
   "outputs": [
    {
     "data": {
      "text/plain": [
       "True"
      ]
     },
     "execution_count": 72,
     "metadata": {},
     "output_type": "execute_result"
    }
   ],
   "source": [
    "(a<b) or (a>b)"
   ]
  },
  {
   "cell_type": "code",
   "execution_count": 76,
   "id": "22476d90-3e8d-4c5c-aeb3-8bd3a1d12338",
   "metadata": {},
   "outputs": [
    {
     "data": {
      "text/plain": [
       "0"
      ]
     },
     "execution_count": 76,
     "metadata": {},
     "output_type": "execute_result"
    }
   ],
   "source": [
    "True or True --- True\n",
    "True or False --- True\n",
    "False or True --- True\n",
    "False or False --- False"
   ]
  },
  {
   "cell_type": "code",
   "execution_count": 78,
   "id": "6161559f-e114-479c-8886-6a497632beec",
   "metadata": {},
   "outputs": [
    {
     "data": {
      "text/plain": [
       "False"
      ]
     },
     "execution_count": 78,
     "metadata": {},
     "output_type": "execute_result"
    }
   ],
   "source": [
    "True and True --- True\n",
    "True and False --- False\n",
    "False and True --- False\n",
    "False and False --- False"
   ]
  },
  {
   "cell_type": "code",
   "execution_count": null,
   "id": "a7e7be09-8168-4869-a8ca-155b95f1354e",
   "metadata": {},
   "outputs": [],
   "source": [
    "s"
   ]
  }
 ],
 "metadata": {
  "kernelspec": {
   "display_name": "Python [conda env:base] *",
   "language": "python",
   "name": "conda-base-py"
  },
  "language_info": {
   "codemirror_mode": {
    "name": "ipython",
    "version": 3
   },
   "file_extension": ".py",
   "mimetype": "text/x-python",
   "name": "python",
   "nbconvert_exporter": "python",
   "pygments_lexer": "ipython3",
   "version": "3.12.7"
  }
 },
 "nbformat": 4,
 "nbformat_minor": 5
}
