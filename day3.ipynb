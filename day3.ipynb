{
 "cells": [
  {
   "cell_type": "code",
   "execution_count": null,
   "id": "7b673dbc-0272-4537-8b8b-4e8b1adcfb00",
   "metadata": {},
   "outputs": [],
   "source": [
    "a = int(input(\"Enter first subject marks: \"))\n",
    "b = int(input(\"Enter second subject marks: \"))\n",
    "c = int(input(\"Enter third subject marks: \"))\n",
    "average = a+b+c/3\n",
    "if average >= 90:\n",
    "    print(\"grade A\")\n",
    "elif average >=80:\n",
    "    print(\"grade B\")\n",
    "elif average "
   ]
  }
 ],
 "metadata": {
  "kernelspec": {
   "display_name": "Python [conda env:base] *",
   "language": "python",
   "name": "conda-base-py"
  },
  "language_info": {
   "codemirror_mode": {
    "name": "ipython",
    "version": 3
   },
   "file_extension": ".py",
   "mimetype": "text/x-python",
   "name": "python",
   "nbconvert_exporter": "python",
   "pygments_lexer": "ipython3",
   "version": "3.12.7"
  }
 },
 "nbformat": 4,
 "nbformat_minor": 5
}
