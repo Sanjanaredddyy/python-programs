{
  "nbformat": 4,
  "nbformat_minor": 0,
  "metadata": {
    "colab": {
      "private_outputs": true,
      "provenance": [],
      "authorship_tag": "ABX9TyNfECD45dXPI9aF6c2400oQ",
      "include_colab_link": true
    },
    "kernelspec": {
      "name": "python3",
      "display_name": "Python 3"
    },
    "language_info": {
      "name": "python"
    }
  },
  "cells": [
    {
      "cell_type": "markdown",
      "metadata": {
        "id": "view-in-github",
        "colab_type": "text"
      },
      "source": [
        "<a href=\"https://colab.research.google.com/github/Sanjanaredddyy/python-programs/blob/main/Untitled1.ipynb\" target=\"_parent\"><img src=\"https://colab.research.google.com/assets/colab-badge.svg\" alt=\"Open In Colab\"/></a>"
      ]
    },
    {
      "cell_type": "code",
      "execution_count": null,
      "metadata": {
        "id": "nHsOoe93T7eK"
      },
      "outputs": [],
      "source": [
        "import matplotlib.pyplot as plt\n",
        "import pandas as pd\n",
        "import seaborn as sns\n",
        "import warnings\n",
        "warnings.filterwarnings('ignore')"
      ]
    },
    {
      "cell_type": "code",
      "source": [
        "claim_data = pd.read_csv(r\"C:\\Users\\Ishitha\\Downloads\\contacts_to_import (2).csv\")\n",
        "claim_data"
      ],
      "metadata": {
        "id": "EAK32OU5W9Co"
      },
      "execution_count": null,
      "outputs": []
    },
    {
      "cell_type": "code",
      "source": [
        "# to access Excel file\n",
        "pd.read_excel(r\"path of the excel file\")"
      ],
      "metadata": {
        "id": "K7hcy5uiXVG7"
      },
      "execution_count": null,
      "outputs": []
    },
    {
      "cell_type": "code",
      "source": [
        "df=sns.load_dataset('taxis')\n",
        "df"
      ],
      "metadata": {
        "id": "BihNBwDeZm-m"
      },
      "execution_count": null,
      "outputs": []
    },
    {
      "cell_type": "code",
      "source": [
        "#here we acess estimator =sum,std,var\n",
        "sns.barplot(x='color',y='total',data=df,color='red',estimator='sum')\n",
        "plt.show()\n",
        "plt.tight_layout()"
      ],
      "metadata": {
        "id": "CIV8tB5QaR0A"
      },
      "execution_count": null,
      "outputs": []
    },
    {
      "cell_type": "code",
      "source": [
        "sns.histplot(x=df['fare'])"
      ],
      "metadata": {
        "id": "NqWFqmb3bp2s"
      },
      "execution_count": null,
      "outputs": []
    },
    {
      "cell_type": "code",
      "source": [
        "sns.histplot(x=df['fare'],color='blue')"
      ],
      "metadata": {
        "id": "j38D2Ie8cNsX"
      },
      "execution_count": null,
      "outputs": []
    },
    {
      "cell_type": "code",
      "source": [
        "sns.histplot(x=df['fare'],color='blue',hue=df['payment'])"
      ],
      "metadata": {
        "id": "xr_7rmOkgtcv"
      },
      "execution_count": null,
      "outputs": []
    },
    {
      "cell_type": "code",
      "source": [
        "sns.histplot(x=df['fare'],palette=['blue','red'],hue=df['payment'])"
      ],
      "metadata": {
        "id": "IbxKWR5tg4wW"
      },
      "execution_count": null,
      "outputs": []
    },
    {
      "cell_type": "code",
      "source": [
        "sns.violinplot(x=df['fare'])"
      ],
      "metadata": {
        "id": "RBcjEoK2hIis"
      },
      "execution_count": null,
      "outputs": []
    },
    {
      "cell_type": "code",
      "source": [
        "sns.violinplot(x=df['fare'],y=df['payment'])"
      ],
      "metadata": {
        "id": "z4EO8sbPhiSW"
      },
      "execution_count": null,
      "outputs": []
    },
    {
      "cell_type": "code",
      "source": [
        "sns.violinplot(x=df['fare'],y=df['payment'],palette=['green','y'])"
      ],
      "metadata": {
        "id": "LhMHqj_Thqk_"
      },
      "execution_count": null,
      "outputs": []
    },
    {
      "cell_type": "code",
      "source": [
        "sns.boxplot(x=df['fare'])"
      ],
      "metadata": {
        "id": "PA29FAJch0wl"
      },
      "execution_count": null,
      "outputs": []
    },
    {
      "cell_type": "code",
      "source": [
        "sns.boxplot(x=df['fare'],y=df['payment'])"
      ],
      "metadata": {
        "id": "5vK4LMhTh8MQ"
      },
      "execution_count": null,
      "outputs": []
    },
    {
      "cell_type": "code",
      "source": [],
      "metadata": {
        "id": "N8tYZXGDiCMX"
      },
      "execution_count": null,
      "outputs": []
    }
  ]
}