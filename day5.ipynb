{
 "cells": [
  {
   "cell_type": "code",
   "execution_count": 7,
   "id": "9429187c-34f4-4d0a-9b69-afa72abbe239",
   "metadata": {},
   "outputs": [
    {
     "data": {
      "text/plain": [
       "{'a': 23, 'b': 56, 'c': 78}"
      ]
     },
     "execution_count": 7,
     "metadata": {},
     "output_type": "execute_result"
    }
   ],
   "source": [
    "k = {'a':23,'b':56,'c':78}\n",
    "k"
   ]
  },
  {
   "cell_type": "code",
   "execution_count": 5,
   "id": "7f7cabdb-9d44-424f-aaf3-c1d57d949369",
   "metadata": {},
   "outputs": [
    {
     "data": {
      "text/plain": [
       "dict"
      ]
     },
     "execution_count": 5,
     "metadata": {},
     "output_type": "execute_result"
    }
   ],
   "source": [
    "type(k)"
   ]
  },
  {
   "cell_type": "code",
   "execution_count": 9,
   "id": "994206f0-ff4b-496f-b3dd-037c2b98c384",
   "metadata": {},
   "outputs": [
    {
     "data": {
      "text/plain": [
       "23"
      ]
     },
     "execution_count": 9,
     "metadata": {},
     "output_type": "execute_result"
    }
   ],
   "source": [
    "k['a']"
   ]
  },
  {
   "cell_type": "code",
   "execution_count": 13,
   "id": "8f41ab41-6f0c-4539-9f9f-d068a401977b",
   "metadata": {},
   "outputs": [
    {
     "data": {
      "text/plain": [
       "23"
      ]
     },
     "execution_count": 13,
     "metadata": {},
     "output_type": "execute_result"
    }
   ],
   "source": [
    "k['a']"
   ]
  },
  {
   "cell_type": "code",
   "execution_count": 9,
   "id": "58378e56-8285-4c3f-bc6e-83d7d0a9dddb",
   "metadata": {},
   "outputs": [
    {
     "data": {
      "text/plain": [
       "{'a': 23, 'b': 56, 'c': 78, 'd': 56}"
      ]
     },
     "execution_count": 9,
     "metadata": {},
     "output_type": "execute_result"
    }
   ],
   "source": [
    "k.update({'d':56})\n",
    "k"
   ]
  },
  {
   "cell_type": "code",
   "execution_count": 31,
   "id": "d717609f-d039-4b0e-92f9-699ce7a4b5d5",
   "metadata": {},
   "outputs": [
    {
     "data": {
      "text/plain": [
       "56"
      ]
     },
     "execution_count": 31,
     "metadata": {},
     "output_type": "execute_result"
    }
   ],
   "source": [
    "k.get('d')"
   ]
  },
  {
   "cell_type": "code",
   "execution_count": 37,
   "id": "c76cb64d-6de1-4ba8-877c-5aeb7a2bffee",
   "metadata": {},
   "outputs": [],
   "source": [
    "k = {100:34, 23:35, 34:78}"
   ]
  },
  {
   "cell_type": "code",
   "execution_count": 39,
   "id": "6600c2a2-78b6-4c11-bf49-235349653bb7",
   "metadata": {},
   "outputs": [
    {
     "data": {
      "text/plain": [
       "{100: 34, 23: 35, 34: 78}"
      ]
     },
     "execution_count": 39,
     "metadata": {},
     "output_type": "execute_result"
    }
   ],
   "source": [
    "k"
   ]
  },
  {
   "cell_type": "code",
   "execution_count": 19,
   "id": "c4404afc-143a-42be-bd45-4bac544524be",
   "metadata": {},
   "outputs": [
    {
     "data": {
      "text/plain": [
       "34"
      ]
     },
     "execution_count": 19,
     "metadata": {},
     "output_type": "execute_result"
    }
   ],
   "source": [
    "k[100]"
   ]
  },
  {
   "cell_type": "code",
   "execution_count": 21,
   "id": "f210bde0-cf4c-48b5-bc96-ab30ce279973",
   "metadata": {},
   "outputs": [
    {
     "data": {
      "text/plain": [
       "35"
      ]
     },
     "execution_count": 21,
     "metadata": {},
     "output_type": "execute_result"
    }
   ],
   "source": [
    "k.get(23)"
   ]
  },
  {
   "cell_type": "code",
   "execution_count": 41,
   "id": "2f51ebd6-3a06-4d51-b9a8-4d7391385088",
   "metadata": {},
   "outputs": [],
   "source": [
    "k.update({199:20})"
   ]
  },
  {
   "cell_type": "code",
   "execution_count": 13,
   "id": "e6f71448-5cdb-4fe7-a961-a54d8f20c098",
   "metadata": {},
   "outputs": [
    {
     "data": {
      "text/plain": [
       "{'a': 23, 'b': 56, 'c': 78, 'd': 56, 23: 67}"
      ]
     },
     "execution_count": 13,
     "metadata": {},
     "output_type": "execute_result"
    }
   ],
   "source": [
    "k"
   ]
  },
  {
   "cell_type": "code",
   "execution_count": 11,
   "id": "b9699bb8-cf00-4a96-895b-61327a768e0e",
   "metadata": {},
   "outputs": [
    {
     "data": {
      "text/plain": [
       "{'a': 23, 'b': 56, 'c': 78, 'd': 56, 23: 67}"
      ]
     },
     "execution_count": 11,
     "metadata": {},
     "output_type": "execute_result"
    }
   ],
   "source": [
    "k.update({23:67})\n",
    "k"
   ]
  },
  {
   "cell_type": "code",
   "execution_count": 45,
   "id": "4d524a06-f05e-4de3-977b-b2c556c77aa9",
   "metadata": {},
   "outputs": [
    {
     "data": {
      "text/plain": [
       "{100: 34, 23: 67, 34: 78, 199: 20, 664378: 7647489}"
      ]
     },
     "execution_count": 45,
     "metadata": {},
     "output_type": "execute_result"
    }
   ],
   "source": [
    "k[664378]=7647489\n",
    "k"
   ]
  },
  {
   "cell_type": "code",
   "execution_count": 15,
   "id": "1ddeea6b-fe6c-4367-bf44-7d19f2b33452",
   "metadata": {},
   "outputs": [
    {
     "data": {
      "text/plain": [
       "{'a': 23, 'b': 56, 'c': 78, 'd': 56, 23: 67, 67: (56, 45, 34)}"
      ]
     },
     "execution_count": 15,
     "metadata": {},
     "output_type": "execute_result"
    }
   ],
   "source": [
    "k.update({67:(56,45,34)})\n",
    "k"
   ]
  },
  {
   "cell_type": "code",
   "execution_count": 49,
   "id": "0ae23082-fd29-4c4e-9dc2-e6bbebb5836b",
   "metadata": {},
   "outputs": [
    {
     "data": {
      "text/plain": [
       "(56, 45, 34)"
      ]
     },
     "execution_count": 49,
     "metadata": {},
     "output_type": "execute_result"
    }
   ],
   "source": [
    "k[67]"
   ]
  },
  {
   "cell_type": "code",
   "execution_count": 53,
   "id": "239b1855-5a2c-427b-bfd1-dbed44b8ac0c",
   "metadata": {},
   "outputs": [
    {
     "data": {
      "text/plain": [
       "tuple"
      ]
     },
     "execution_count": 53,
     "metadata": {},
     "output_type": "execute_result"
    }
   ],
   "source": [
    "type(k[67])"
   ]
  },
  {
   "cell_type": "code",
   "execution_count": 55,
   "id": "b6b899fa-3b15-4a14-af46-6d5a51fc4b1b",
   "metadata": {},
   "outputs": [
    {
     "data": {
      "text/plain": [
       "int"
      ]
     },
     "execution_count": 55,
     "metadata": {},
     "output_type": "execute_result"
    }
   ],
   "source": [
    "type(k[100])"
   ]
  },
  {
   "cell_type": "code",
   "execution_count": 17,
   "id": "1438b58e-2aa2-4656-a73b-76304c6903c6",
   "metadata": {},
   "outputs": [
    {
     "ename": "AttributeError",
     "evalue": "'tuple' object has no attribute 'append'",
     "output_type": "error",
     "traceback": [
      "\u001b[1;31m---------------------------------------------------------------------------\u001b[0m",
      "\u001b[1;31mAttributeError\u001b[0m                            Traceback (most recent call last)",
      "Cell \u001b[1;32mIn[17], line 1\u001b[0m\n\u001b[1;32m----> 1\u001b[0m k[\u001b[38;5;241m67\u001b[39m]\u001b[38;5;241m.\u001b[39mappend(\u001b[38;5;241m20\u001b[39m)\n\u001b[0;32m      2\u001b[0m k\n",
      "\u001b[1;31mAttributeError\u001b[0m: 'tuple' object has no attribute 'append'"
     ]
    }
   ],
   "source": [
    "k[67].append(20)\n",
    "k\n",
    "#tuple object does not contain attribute 'append'"
   ]
  },
  {
   "cell_type": "code",
   "execution_count": 19,
   "id": "e249d0f9-d00d-47b8-88d7-fb6819abd3b5",
   "metadata": {},
   "outputs": [
    {
     "data": {
      "text/plain": [
       "{'a': 23,\n",
       " 'b': 56,\n",
       " 'c': 78,\n",
       " 'd': 56,\n",
       " 23: 67,\n",
       " 67: (56, 45, 34),\n",
       " 30: [10, 50, 34, 25]}"
      ]
     },
     "execution_count": 19,
     "metadata": {},
     "output_type": "execute_result"
    }
   ],
   "source": [
    "k[30]=[10,50,34,25]\n",
    "k"
   ]
  },
  {
   "cell_type": "code",
   "execution_count": 21,
   "id": "1f068f05-4aa1-4c5e-b0be-2fbb3f1d3b15",
   "metadata": {},
   "outputs": [],
   "source": [
    "k[30].append(29)"
   ]
  },
  {
   "cell_type": "code",
   "execution_count": 65,
   "id": "d3671cc4-ded3-4d2b-99ed-04340e0913ae",
   "metadata": {},
   "outputs": [
    {
     "data": {
      "text/plain": [
       "{100: 34,\n",
       " 23: 67,\n",
       " 34: 78,\n",
       " 199: 20,\n",
       " 664378: 7647489,\n",
       " 67: (56, 45, 34),\n",
       " 30: [10, 50, 34, 25, 29]}"
      ]
     },
     "execution_count": 65,
     "metadata": {},
     "output_type": "execute_result"
    }
   ],
   "source": [
    "k"
   ]
  },
  {
   "cell_type": "code",
   "execution_count": 23,
   "id": "3e966bb2-af28-4641-a41b-dcccd2ed6bc6",
   "metadata": {},
   "outputs": [
    {
     "data": {
      "text/plain": [
       "{'a': 23,\n",
       " 'b': 56,\n",
       " 'c': 78,\n",
       " 'd': 56,\n",
       " 23: 67,\n",
       " 67: (56, 45, 34),\n",
       " 30: [10, 50, 34, 25, 29],\n",
       " 34: {45: [5, 7, 8, 9], 'mango': (1, 3, 4, [45, 34, 23])}}"
      ]
     },
     "execution_count": 23,
     "metadata": {},
     "output_type": "execute_result"
    }
   ],
   "source": [
    "k[34]={45:[5,7,8,9],'mango':(1,3,4,[45,34,23])}\n",
    "k"
   ]
  },
  {
   "cell_type": "code",
   "execution_count": 25,
   "id": "2167f2da-c3b0-4a00-b55e-0a71be7c9598",
   "metadata": {},
   "outputs": [
    {
     "data": {
      "text/plain": [
       "{'a': 23,\n",
       " 'b': 56,\n",
       " 'c': 78,\n",
       " 'd': 56,\n",
       " 23: 67,\n",
       " 67: (56, 45, 34),\n",
       " 30: [10, 50, 34, 25, 29],\n",
       " 34: {45: [5, 7, 8, 9], 'mango': (1, 3, 4, [45, 34, 23])},\n",
       " 199: {'a': {23, 34, 45},\n",
       "  'b': (200, 35, 11, 33),\n",
       "  'c': ['K', {'L': [12, 13], 'M': (90, 44)}, 'QQQQQ']}}"
      ]
     },
     "execution_count": 25,
     "metadata": {},
     "output_type": "execute_result"
    }
   ],
   "source": [
    "k[199]={'a':{45,34,23},'b':(200,35,11,33),'c':['K',{'L':[12,13],'M':(90,44)},'QQQQQ']}\n",
    "k"
   ]
  },
  {
   "cell_type": "code",
   "execution_count": 87,
   "id": "6ffae8cb-28e2-48a6-8aa3-1200ea430599",
   "metadata": {},
   "outputs": [
    {
     "data": {
      "text/plain": [
       "45"
      ]
     },
     "execution_count": 87,
     "metadata": {},
     "output_type": "execute_result"
    }
   ],
   "source": [
    "k[34]['mango'][3][0]"
   ]
  },
  {
   "cell_type": "code",
   "execution_count": 27,
   "id": "a30e5ee3-fa57-4ce9-a266-e92ad21f20a9",
   "metadata": {},
   "outputs": [
    {
     "data": {
      "text/plain": [
       "[10, 50, 34, 25, 29]"
      ]
     },
     "execution_count": 27,
     "metadata": {},
     "output_type": "execute_result"
    }
   ],
   "source": [
    "k[30]"
   ]
  },
  {
   "cell_type": "code",
   "execution_count": 31,
   "id": "bbefa67a-095e-4941-be5a-ac5cbdab4726",
   "metadata": {},
   "outputs": [
    {
     "ename": "TypeError",
     "evalue": "'int' object is not subscriptable",
     "output_type": "error",
     "traceback": [
      "\u001b[1;31m---------------------------------------------------------------------------\u001b[0m",
      "\u001b[1;31mTypeError\u001b[0m                                 Traceback (most recent call last)",
      "Cell \u001b[1;32mIn[31], line 1\u001b[0m\n\u001b[1;32m----> 1\u001b[0m k[\u001b[38;5;124m'\u001b[39m\u001b[38;5;124mc\u001b[39m\u001b[38;5;124m'\u001b[39m][\u001b[38;5;124m'\u001b[39m\u001b[38;5;124mM\u001b[39m\u001b[38;5;124m'\u001b[39m][\u001b[38;5;241m1\u001b[39m]\n",
      "\u001b[1;31mTypeError\u001b[0m: 'int' object is not subscriptable"
     ]
    }
   ],
   "source": [
    "k['c']['M'][1]"
   ]
  },
  {
   "cell_type": "code",
   "execution_count": null,
   "id": "206cb1ff-ae4f-41bc-bf00-46efd82cbda3",
   "metadata": {},
   "outputs": [],
   "source": []
  }
 ],
 "metadata": {
  "kernelspec": {
   "display_name": "Python [conda env:base] *",
   "language": "python",
   "name": "conda-base-py"
  },
  "language_info": {
   "codemirror_mode": {
    "name": "ipython",
    "version": 3
   },
   "file_extension": ".py",
   "mimetype": "text/x-python",
   "name": "python",
   "nbconvert_exporter": "python",
   "pygments_lexer": "ipython3",
   "version": "3.12.7"
  }
 },
 "nbformat": 4,
 "nbformat_minor": 5
}
